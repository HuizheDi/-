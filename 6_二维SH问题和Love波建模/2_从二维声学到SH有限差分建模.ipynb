{
 "cells": [
  {
   "cell_type": "markdown",
   "metadata": {},
   "source": [
    "###### Content under Creative Commons Attribution license CC-BY 4.0, code under BSD 3-Clause License © 2018 by D. Koehn, notebook style sheet by L.A. Barba, N.C. Clementi\n",
    "\n",
    "###### Translated by Huizhe Di @ SCSIO"
   ]
  },
  {
   "cell_type": "markdown",
   "metadata": {},
   "source": [
    "# 从二维声学到SH有限差分建模\n",
    "\n",
    "在 [上节课](http://nbviewer.jupyter.org/github/daniel-koehn/Theory-of-seismic-waves-II/blob/master/06_2D_SH_Love_wave_modelling/1_2D_SH_FD_staggered.ipynb)中, 我们推导了二维各向同性弹性SH问题在交错笛卡尔网格上的二阶时空有限差分解. 在下一步，我们将从二维声学代码开始实现它 ..."
   ]
  },
  {
   "cell_type": "markdown",
   "metadata": {},
   "source": [
    "## 二维各向同性SH问题的有限差分解\n",
    "\n",
    "交错网格上的二阶时间/空间有限差分格式 \n",
    "\n",
    "<img src=\"images/SG_SH-Cart.png\" width=\"50%\">\n",
    "\n",
    "用显式时间步进和Leapfrog方法求解二维SH问题可以写成: \n",
    "\n",
    "\\begin{align}\n",
    "\\scriptsize \n",
    "v_y(i,j,n+1/2) &\\scriptsize= \\frac{dt}{\\rho}\\biggl\\{\\biggl(\\frac{\\partial \\sigma_{yx}}{\\partial x}\\biggr)^c(i,j,n) + \\biggl(\\frac{\\partial \\sigma_{yz}}{\\partial z}\\biggl)^c(i,j,n) + f_y(i,j,n)\\biggr\\} + v_y(i,j,n-1/2), \\notag\\\\\n",
    "\\scriptsize\\sigma_{yx}(i+1/2,j,n+1) &\\scriptsize= dt\\; \\mu_x \\biggl(\\frac{\\partial v_{y}}{\\partial x}\\biggr)^c(i+1/2,j,n+1/2) + \\sigma_{yx}(i+1/2,j,n),\\notag\\\\\n",
    "\\scriptsize\\sigma_{yz}(i,j+1/2,n+1) &\\scriptsize= dt\\; \\mu_z \\biggl(\\frac{\\partial v_{y}}{\\partial z}\\biggr)^c(i,j+1/2,n+1/2) + \\sigma_{yz}(i,j+1/2,n), \\notag\\\\\n",
    "\\end{align}"
   ]
  },
  {
   "cell_type": "markdown",
   "metadata": {},
   "source": [
    "等式右边上的空间导数近似为\n",
    "\n",
    "\\begin{equation}\n",
    "\\scriptsize \\biggl(\\frac{\\partial \\sigma_{yx}}{\\partial x}\\biggr)^c(i,j) \\approx \\frac{\\sigma_{yx}(i+1/2,j) - \\sigma_{yx}(i-1/2,j)}{dx},\\; \n",
    "\\biggl(\\frac{\\partial \\sigma_{yz}}{\\partial z}\\biggr)^c(i,j) \\approx \\frac{\\sigma_{yz}(i,j+1/2) - \\sigma_{yz}(i,j-1/2)}{dz},\\notag\n",
    "\\end{equation}\n",
    "\n",
    "\\begin{equation}\n",
    "\\scriptsize \\biggl(\\frac{\\partial v_{y}}{\\partial x}\\biggr)^c(i+1/2,j) \\approx \\frac{v_y(i+1,j) - v_{y}(i,j)}{dx},\\notag \n",
    "\\end{equation}\n",
    "\n",
    "\\begin{equation}\n",
    "\\scriptsize \\biggl(\\frac{\\partial v_{y}}{\\partial z}\\biggr)^c(i,j+1/2) \\approx \\scriptsize \\frac{v_y(i,j+1) - v_{y}(i,j)}{dz}.\\notag \n",
    "\\end{equation}"
   ]
  },
  {
   "cell_type": "markdown",
   "metadata": {},
   "source": [
    "和谐波平均剪切模量:\n",
    "\n",
    "\\begin{align}\n",
    "\\mu_{x} &= \\mu(i+1/2,j) = 2 \\biggl[\\biggl(\\mu^{-1}_{i,j}+\\mu^{-1}_{i+1,j}\\biggr)\\biggr]^{-1} \\notag\\\\\n",
    "\\mu_{z} &= \\mu(i,j+1/2) = 2 \\biggl[\\biggl(\\mu^{-1}_{i,j}+\\mu^{-1}_{i,j+1}\\biggr)\\biggr]^{-1} \\notag\n",
    "\\end{align}"
   ]
  },
  {
   "cell_type": "markdown",
   "metadata": {},
   "source": [
    "### 初始和边界条件 \n",
    "\n",
    "因为我们有均匀介质中波传播的解析解，我们应该测试类似介质的第一个代码实现, 通过设置密度 $\\rho$ 和剪切模量 $\\mu$ 为常数值 $\\rho_0,\\; \\mu_0$\n",
    "\n",
    "\\begin{align}\n",
    "\\rho(i,j) &= \\rho_0 \\notag \\\\\n",
    "\\mu(i,j) &= \\mu_0 = \\rho_0 V_{s0}^2\\notag\n",
    "\\end{align}\n",
    "\n",
    "在每一个空间网格点 $i = 0, 1, 2, ..., nx$; $j = 0, 1, 2, ..., nz$, 为了比较数值解和解析解。为了完整地描述这个问题，我们还必须定义初始条件和边界条件。 **初始条件** 是 \n",
    "\n",
    "\\begin{equation}\n",
    "v_y(i,j,0) = \\sigma_{yx}(i+1/2,j,0) = \\sigma_{yz}(i,j+1/2,0) = 0, \\nonumber\n",
    "\\end{equation}\n",
    "\n",
    "因此，在每个空间网格点上，建模从零粒子速度和剪应力振幅开始。至于 **边界条件**, 我们假设 \n",
    "\n",
    "\\begin{align}\n",
    "v_y(0,j,n) &= \\sigma_{yx}(1/2,j,n) = \\sigma_{yz}(0,j+1/2,n) = 0, \\nonumber\\\\\n",
    "v_y(nx,j,n) &= \\sigma_{yx}(nx+1/2,j,n) = \\sigma_{yz}(nx,j+1/2,n) = 0, \\nonumber\\\\\n",
    "v_y(i,0,n) &= \\sigma_{yx}(i+1/2,0,n) = \\sigma_{yz}(i,1/2,n) = 0, \\nonumber\\\\\n",
    "v_y(i,nz,n) &= \\sigma_{yx}(i+1/2,nz,n) = \\sigma_{yz}(i,nz+1/2,n) = 0, \\nonumber\\\\\n",
    "\\end{align}\n",
    "\n",
    "对于所有时间步长 n. 这个 **Dirichlet边界条件**, 导致人工边界反射，显然不能描述均匀介质。现在，我们只是扩展模型，这样边界反射就不会被记录在接收位置。\n",
    "\n",
    "让我们实现它 ..."
   ]
  },
  {
   "cell_type": "code",
   "execution_count": 1,
   "metadata": {
    "code_folding": [
     0
    ]
   },
   "outputs": [],
   "source": [
    "# Import Libraries \n",
    "# ----------------\n",
    "import numpy as np\n",
    "from numba import jit\n",
    "import matplotlib\n",
    "import matplotlib.pyplot as plt\n",
    "from pylab import rcParams\n",
    "\n",
    "# Ignore Warning Messages\n",
    "# -----------------------\n",
    "import warnings\n",
    "warnings.filterwarnings(\"ignore\")"
   ]
  },
  {
   "cell_type": "code",
   "execution_count": 2,
   "metadata": {
    "code_folding": [],
    "scrolled": false
   },
   "outputs": [],
   "source": [
    "# Definition of modelling parameters\n",
    "# ----------------------------------\n",
    "xmax = 500.0 # maximum spatial extension of the 1D model in x-direction (m)\n",
    "zmax = xmax  # maximum spatial extension of the 1D model in z-direction(m)\n",
    "#dx   = 1.0   # grid point distance in x-direction\n",
    "#dz   = dx    # grid point distance in z-direction\n",
    "\n",
    "tmax = 0.502   # maximum recording time of the seismogram (s)\n",
    "#dt   = 0.0010  # time step\n",
    "\n",
    "vs0  = 580.   # S-wave speed in medium (m/s)\n",
    "rho0 = 1000.  # Density in medium (kg/m^3)\n",
    "\n",
    "# acquisition geometry\n",
    "xr = 330.0 # x-receiver position (m)\n",
    "zr = xr    # z-receiver position (m)\n",
    "\n",
    "xsrc = 250.0 # x-source position (m)\n",
    "zsrc = 250.0 # z-source position (m)\n",
    "\n",
    "f0   = 40. # dominant frequency of the source (Hz)\n",
    "t0   = 4. / f0 # source time shift (s)"
   ]
  },
  {
   "cell_type": "markdown",
   "metadata": {},
   "source": [
    "## 均匀Vs模型二维有限差分与解析解的比较\n",
    "\n",
    "在原先的[练习](https://danielkoehnsite.files.wordpress.com/2018/04/ex_02_tew21.pdf)中， 你证明了均匀二维声学和二维SH问题的解析解, 除了密度系数 $1/\\rho_0$, 实际是一样的 . 在下面的函数中，我们用集中的二阶空间/时间差分算子求解均匀二维SH问题，并将数值结果与解析解进行比较: \n",
    "\n",
    "\\begin{equation}\n",
    "u_{y,analy}(x,z,t) = G_{2D} * S \\nonumber \n",
    "\\end{equation}\n",
    "\n",
    "通过 2D Green's function:\n",
    "\n",
    "\\begin{equation}\n",
    "G_{2D}(x,z,t) = \\dfrac{1}{2\\pi \\rho_0 V_{s0}^2}\\dfrac{H\\biggl((t-t_s)-\\dfrac{|r|}{V_{s0}}\\biggr)}{\\sqrt{(t-t_s)^2-\\dfrac{r^2}{V_{s0}^2}}}, \\nonumber \n",
    "\\end{equation}\n",
    "\n",
    "这里 $H$ 表示Heaviside function, $r = \\sqrt{(x-x_s)^2+(z-z_s)^2}$ 表示震源和接收器的距离， $S$ 表示子波。铭记应力-速度代码计算 **粒子速度** $\\mathbf{v_{y,analy}}$, 然而解析解的表达项为 **位移** $\\mathbf{u_{y,analy}}$. 因此，在比较数值解和解析解之前，我们必须对解析解求一阶导数:\n",
    "\n",
    "\\begin{equation}\n",
    "v_{y,analy}(x,z,t) = \\frac{\\partial u_{y,analy}}{\\partial t} \\nonumber \n",
    "\\end{equation}\n",
    "\n",
    "为了实现二维SH代码，我们首先引入函数来更新粒子速度 $v_y$ ..."
   ]
  },
  {
   "cell_type": "code",
   "execution_count": 3,
   "metadata": {},
   "outputs": [],
   "source": [
    "# Particle velocity vy update\n",
    "# ---------------------------\n",
    "@jit(nopython=True) # use JIT for C-performance\n",
    "def update_vel(vy, syx, syz, dx, dz, dt, nx, nz, rho):\n",
    "    \n",
    "    for i in range(1, nx - 1):\n",
    "        for j in range(1, nz - 1):\n",
    "            \n",
    "            # Calculate spatial derivatives            \n",
    "            syx_x = (syx[i,j] - syx[i - 1,j]) / dx\n",
    "            syz_z = (syz[i,j] - syz[i,j - 1]) / dz\n",
    "            \n",
    "            # Update particle velocities\n",
    "            vy[i,j] = vy[i,j] + (dt/rho[i,j]) * (syx_x + syz_z)                \n",
    "                    \n",
    "    return vy"
   ]
  },
  {
   "cell_type": "markdown",
   "metadata": {},
   "source": [
    "... 更新剪应力分量 $\\sigma_{yx}$ and $\\sigma_{yz}$ ..."
   ]
  },
  {
   "cell_type": "code",
   "execution_count": 4,
   "metadata": {},
   "outputs": [],
   "source": [
    "# Shear stress syx, syz updates\n",
    "# -----------------------------\n",
    "@jit(nopython=True) # use JIT for C-performance\n",
    "def update_stress(vy, syx, syz, dx, dz, dt, nx, nz, mux, muz):\n",
    "    \n",
    "    for i in range(1, nx - 1):\n",
    "        for j in range(1, nz - 1):\n",
    "            \n",
    "            # Calculate spatial derivatives            \n",
    "            vy_x = (vy[i + 1,j] - vy[i,j]) / dx\n",
    "            vy_z = (vy[i,j + 1] - vy[i,j]) / dz\n",
    "            \n",
    "            # Update shear stresses\n",
    "            syx[i,j] = syx[i,j] + dt * mux[i,j] * vy_x\n",
    "            syz[i,j] = syz[i,j] + dt * muz[i,j] * vy_z\n",
    "                    \n",
    "    return syx, syz"
   ]
  },
  {
   "cell_type": "markdown",
   "metadata": {},
   "source": [
    "... 和剪切模量谐波平均 ..."
   ]
  },
  {
   "cell_type": "code",
   "execution_count": 5,
   "metadata": {},
   "outputs": [],
   "source": [
    "# Harmonic averages of shear modulus\n",
    "# ----------------------------------\n",
    "@jit(nopython=True) # use JIT for C-performance\n",
    "def shear_avg(mu, nx, nz, mux, muz):\n",
    "    \n",
    "    for i in range(1, nx - 1):\n",
    "        for j in range(1, nz - 1):\n",
    "            \n",
    "            # Calculate harmonic averages of shear moduli        \n",
    "            mux[i,j] = 2 / (1 / mu[i + 1,j] + 1 / mu[i,j])\n",
    "            muz[i,j] = 2 / (1 / mu[i,j + 1] + 1 / mu[i,j])\n",
    "            \n",
    "    return mux, muz"
   ]
  },
  {
   "cell_type": "markdown",
   "metadata": {},
   "source": [
    "最后，我们可以修改主有限差分代码 ..."
   ]
  },
  {
   "cell_type": "code",
   "execution_count": 6,
   "metadata": {
    "code_folding": [
     42
    ]
   },
   "outputs": [],
   "source": [
    "# 2D SH Wave Propagation (Finite Difference Solution) \n",
    "# ---------------------------------------------------\n",
    "def FD_2D_SH_JIT(dt,dx,dz,f0,xsrc,zsrc):\n",
    "        \n",
    "    nx = (int)(xmax/dx) # number of grid points in x-direction\n",
    "    print('nx = ',nx)\n",
    "    \n",
    "    nz = (int)(zmax/dz) # number of grid points in x-direction\n",
    "    print('nz = ',nz)\n",
    "            \n",
    "    nt = (int)(tmax/dt) # maximum number of time steps            \n",
    "    print('nt = ',nt)\n",
    "    \n",
    "    ir = (int)(xr/dx)      # receiver location in grid in x-direction    \n",
    "    jr = (int)(zr/dz)      # receiver location in grid in z-direction\n",
    "    \n",
    "    isrc = (int)(xsrc/dx)  # source location in grid in x-direction\n",
    "    jsrc = (int)(zsrc/dz)  # source location in grid in x-direction\n",
    "\n",
    "    # Source time function (Gaussian)\n",
    "    # -------------------------------\n",
    "    src  = np.zeros(nt + 1)\n",
    "    time = np.linspace(0 * dt, nt * dt, nt)\n",
    "\n",
    "    # 1st derivative of a Gaussian\n",
    "    src  = -2. * (time - t0) * (f0 ** 2) * (np.exp(- (f0 ** 2) * (time - t0) ** 2))\n",
    "\n",
    "    # Analytical solution\n",
    "    # -------------------\n",
    "    G        = time * 0.\n",
    "    vy_analy = time * 0.\n",
    "\n",
    "    # Initialize coordinates\n",
    "    # ----------------------\n",
    "    x    = np.arange(nx)\n",
    "    x    = x * dx       # coordinates in x-direction (m)\n",
    "\n",
    "    z    = np.arange(nz)\n",
    "    z    = z * dz       # coordinates in z-direction (m)\n",
    "    \n",
    "    # calculate source-receiver distance\n",
    "    r = np.sqrt((x[ir] - x[isrc])**2 + (z[jr] - z[jsrc])**2)\n",
    "    \n",
    "    for it in range(nt): # Calculate Green's function (Heaviside function)\n",
    "        if (time[it] - r / vs0) >= 0:\n",
    "            G[it] = 1. / (2 * np.pi * rho0 * vs0**2) * (1. / np.sqrt(time[it]**2 - (r/vs0)**2))\n",
    "    Gc   = np.convolve(G, src * dt)\n",
    "    Gc   = Gc[0:nt]\n",
    "    \n",
    "    # compute vy_analy from uy_analy\n",
    "    for i in range(1, nt - 1):\n",
    "        vy_analy[i] = (Gc[i+1] - Gc[i-1]) / (2.0 * dt)           \n",
    "    \n",
    "    # Initialize empty pressure arrays\n",
    "    # --------------------------------\n",
    "    vy    = np.zeros((nx,nz)) # particle velocity vy\n",
    "    syx   = np.zeros((nx,nz)) # shear stress syx\n",
    "    syz   = np.zeros((nx,nz)) # shear stress syz        \n",
    "\n",
    "    # Initialize model (assume homogeneous model)\n",
    "    # -------------------------------------------    \n",
    "    vs    = np.zeros((nx,nz))\n",
    "    vs    = vs + vs0      # initialize wave velocity in model\n",
    "    \n",
    "    rho   = np.zeros((nx,nz))\n",
    "    rho   = rho + rho0    # initialize wave velocity in model\n",
    "    \n",
    "    # calculate shear modulus\n",
    "    mu    = np.zeros((nx,nz))\n",
    "    mu    = rho * vs ** 2 \n",
    "    \n",
    "    # harmonic average of shear moduli\n",
    "    # --------------------------------\n",
    "    mux   = mu # initialize harmonic average mux \n",
    "    muz   = mu # initialize harmonic average muz\n",
    "\n",
    "    mux, muz = shear_avg(mu, nx, nz, mux, muz)\n",
    "    \n",
    "    # Initialize empty seismogram\n",
    "    # ---------------------------\n",
    "    seis = np.zeros(nt) \n",
    "    \n",
    "    # Time looping\n",
    "    # ------------\n",
    "    for it in range(nt):\n",
    "    \n",
    "        # Update particle velocity vy\n",
    "        # ---------------------------\n",
    "        vy = update_vel(vy, syx, syz, dx, dz, dt, nx, nz, rho)\n",
    "\n",
    "        # Add Source Term at (isrc,jsrc)\n",
    "        # ------------------------------\n",
    "        # Absolute particle velocity w.r.t analytical solution\n",
    "        vy[isrc,jsrc] = vy[isrc,jsrc] + (dt * src[it] / (rho[isrc,jsrc] * dx * dz))\n",
    "        \n",
    "        # Update shear stress syx, syz\n",
    "        # ----------------------------\n",
    "        syx, syz = update_stress(vy, syx, syz, dx, dz, dt, nx, nz, mux, muz)                \n",
    "                           \n",
    "        # Output of Seismogram\n",
    "        # -----------------\n",
    "        seis[it] = vy[ir,jr]   \n",
    "        \n",
    "    # Compare FD Seismogram with analytical solution\n",
    "    # ---------------------------------------------- \n",
    "    # Define figure size\n",
    "    rcParams['figure.figsize'] = 12, 5\n",
    "    plt.plot(time, seis, 'b-',lw=3,label=\"FD solution\") # plot FD seismogram\n",
    "    Analy_seis = plt.plot(time,vy_analy,'r--',lw=3,label=\"Analytical solution\") # plot analytical solution\n",
    "    plt.xlim(time[0], time[-1])\n",
    "    plt.title('Seismogram')\n",
    "    plt.xlabel('Time (s)')\n",
    "    plt.ylabel('Amplitude')\n",
    "    plt.legend()\n",
    "    plt.grid()\n",
    "    plt.show()     \n",
    "    \n",
    "    return mux, muz"
   ]
  },
  {
   "cell_type": "code",
   "execution_count": 7,
   "metadata": {},
   "outputs": [
    {
     "name": "stdout",
     "output_type": "stream",
     "text": [
      "nx =  500\n",
      "nz =  500\n",
      "nt =  502\n"
     ]
    },
    {
     "data": {
      "image/png": "[encoded data removed]",
      "text/plain": [
       "<Figure size 1200x500 with 1 Axes>"
      ]
     },
     "metadata": {},
     "output_type": "display_data"
    },
    {
     "name": "stdout",
     "output_type": "stream",
     "text": [
      "CPU times: user 1.01 s, sys: 188 ms, total: 1.2 s\n",
      "Wall time: 1 s\n"
     ]
    }
   ],
   "source": [
    "%%time\n",
    "\n",
    "dx   = 1.0   # grid point distance in x-direction (m)\n",
    "dz   = dx    # grid point distance in z-direction (m)\n",
    "\n",
    "dt = 0.001   # time step (s)\n",
    "\n",
    "mux, muz = FD_2D_SH_JIT(dt,dx,dz,f0,xsrc,zsrc)"
   ]
  },
  {
   "cell_type": "markdown",
   "metadata": {},
   "source": [
    "## 我们学习到:\n",
    "\n",
    "* 基于二维声学有限差分代码的二维各向同性弹性SH问题的实现\n",
    "* 与均匀Vs模型解析解的比较"
   ]
  }
 ],
 "metadata": {
  "anaconda-cloud": {},
  "kernelspec": {
   "display_name": "Python 3 (ipykernel)",
   "language": "python",
   "name": "python3"
  },
  "language_info": {
   "codemirror_mode": {
    "name": "ipython",
    "version": 3
   },
   "file_extension": ".py",
   "mimetype": "text/x-python",
   "name": "python",
   "nbconvert_exporter": "python",
   "pygments_lexer": "ipython3",
   "version": "3.9.13"
  }
 },
 "nbformat": 4,
 "nbformat_minor": 1
}
