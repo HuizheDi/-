{
 "cells": [
  {
   "cell_type": "markdown",
   "metadata": {},
   "source": [
    "###### Content under Creative Commons Attribution license CC-BY 4.0, code under BSD 3-Clause License © 2018 by D. Koehn, notebook style sheet by L.A. Barba, N.C. Clementi\n",
    "\n",
    "###### Translated by Huizhe Di @ SCSIO"
   ]
  },
  {
   "cell_type": "markdown",
   "metadata": {},
   "source": [
    "# 一维粘弹性SH建模\n",
    "\n",
    "在推导了一维波在粘弹性SH介质中的传播运动方程之后，我们现在可以用交错网格FD格式来解决这个问题。此外，采用全局差分进化(DE)算法对广义麦克斯韦体(GMB)的非弹性系数进行优化，使其Q值保持不变。最后，比较了均匀模型的弹性和粘弹性建模结果。"
   ]
  },
  {
   "cell_type": "markdown",
   "metadata": {},
   "source": [
    "## 一维各向同性粘弹性SH问题的有限差分解\n",
    "\n",
    "如上一课所推导的，我们可以用偏微分方程来描述一维粘弹性SH问题:\n",
    "\n",
    "二阶时间/空间有限差分系统在一个交错网格上\n",
    "\n",
    "<img src=\"images/SG_1D_SH-Cart.png\" width=\"50%\">\n",
    "\n",
    "用显式时间步进和Leapfrog方法求解一维粘弹性SH问题可以写成 \n",
    "\n",
    "\\begin{align}\n",
    "\\scriptsize \n",
    "\\frac{v_y(i,n+1/2) - v_y(i,n-1/2)}{dt} &\\scriptsize= \\frac{1}{\\rho}\\biggl\\{\\biggl(\\frac{\\partial \\sigma_{yx}}{\\partial x}\\biggr)^c(i,n) + f_y(i,n)\\biggr\\}, \\notag\\\\\n",
    "\\scriptsize\\frac{\\sigma_{yx}(i+1/2,n+1) - \\sigma_{yx}(i+1/2,n)}{dt} &\\scriptsize= \\mu_{x,u} \\biggl(\\frac{\\partial v_{y}}{\\partial x}\\biggr)^c(i+1/2,n+1/2) - \\sum_{l=1}^L Y_l\\xi_l(i+1/2,n),\\notag\\\\\n",
    "\\scriptsize \\frac{\\xi_l(i+1/2,n+1/2) - \\xi_l(i+1/2,n-1/2)}{dt} &\\scriptsize= \\omega_l \\biggl(\\frac{\\partial v_{y}}{\\partial x}\\biggr)^c(i+1/2,n+1/2) - \\omega_l \\xi_l(i+1/2,n-1/2)\\notag\n",
    "\\end{align}\n",
    "\n",
    "使用非松弛剪切模量 \n",
    "\n",
    "\\begin{equation}\n",
    "\\mu_u = \\frac{\\mu}{1-\\sum_{l=1}^L Y_l}\\notag\n",
    "\\end{equation}\n",
    "\n",
    "和谐波平均非松弛剪切模量\n",
    "\n",
    "\\begin{equation}\n",
    "\\mu_{x,u} = 2 \\biggl(\\frac{1}{\\mu_u(i)}+\\frac{1}{\\mu_u(i+1)}\\biggr)^{-1}\\notag\n",
    "\\end{equation}\n",
    "\n",
    "注意，我们必须在全时步骤中计算重音更新中的内存变量 $\\xi_l$，这必须通过算术平均从半时步骤中的 $\\xi_l$-值中估计出来:\n",
    "\n",
    "\\begin{equation}\n",
    "\\xi_l(i+1/2,n) = \\frac{\\xi_l(i+1/2,n+1/2)+\\xi_l(i+1/2,n-1/2)}{2}\\notag\n",
    "\\end{equation}"
   ]
  },
  {
   "cell_type": "markdown",
   "metadata": {},
   "source": [
    "### 初始和边界条件\n",
    "\n",
    "因为我们有均匀弹性介质中波传播的解析解，我们应该测试类似介质的代码实现，通过设置密度 $\\rho$ 和剪切模量 $\\mu$ 为恒定值 $\\rho_0,\\; \\mu_0$\n",
    "\n",
    "\\begin{align}\n",
    "\\rho(i) &= \\rho_0 \\notag \\\\\n",
    "\\mu(i) &= \\mu_0 = \\rho_0 V_{s0}^2\\notag\n",
    "\\end{align}\n",
    "\n",
    "在每一个空间网格点 $i = 0, 1, 2, ..., nx$ 和交错网格点 $i+1/2$ 为了比较数值解和解析解。为了完整地描述这个问题，我们还需要定义初始和边界条件。**初始条件** 为 \n",
    "\n",
    "\\begin{equation}\n",
    "v_y(i,-1/2) = \\sigma_{yx}(i+1/2,0) = \\xi_{l}(i+1/2,-1/2) = 0, \\nonumber\n",
    "\\end{equation}\n",
    "\n",
    "因此，建模从零粒子速度、剪切应力和每个空间网格点的记忆变幅开始。至于 **边界条件**, 我们假设 \n",
    "\n",
    "\\begin{align}\n",
    "v_y(0,n) &= \\sigma_{yx}(1/2,n) = \\xi_{l}(1/2,n) = 0, \\nonumber\\\\\n",
    "v_y(nx,n) &= \\sigma_{yx}(nx+1/2,n) = \\xi_{l}(nx+1/2,n) = 0, \\nonumber\\\\\n",
    "\\end{align}\n",
    "\n",
    "对于全和交错网格的时间步长 n, n+1/2. 这个 **Dirichlet边界条件**, 会导致人工边界反射，这显然不能描述均匀介质。现在，我们只是扩展模型，这样边界反射就不会被记录在接收位置。\n",
    "\n",
    "让我们实现它 ..."
   ]
  },
  {
   "cell_type": "code",
   "execution_count": 1,
   "metadata": {
    "code_folding": [
     0
    ]
   },
   "outputs": [],
   "source": [
    "# Import Libraries \n",
    "# ----------------\n",
    "import numpy as np\n",
    "from numba import jit\n",
    "import matplotlib\n",
    "import matplotlib.pyplot as plt\n",
    "from pylab import rcParams\n",
    "from scipy.optimize import differential_evolution\n",
    "\n",
    "# Ignore Warning Messages\n",
    "# -----------------------\n",
    "import warnings\n",
    "warnings.filterwarnings(\"ignore\")"
   ]
  },
  {
   "cell_type": "markdown",
   "metadata": {},
   "source": [
    "## 优化 Yl 系数\n",
    "\n",
    "为了实现不变的Q值谱，我们需要优化滞弹的系数 $Y_l$。这可以通过最小化目标函数来实现:\n",
    "\n",
    "\\begin{equation}\n",
    "\\chi(Y_l) = \\int_{\\omega_{min}}^{\\omega_{max}} \\biggl(Q^{-1}(Y_l,\\omega) - Q^{-1}_{opt}\\biggr)^2 d\\omega\\notag\n",
    "\\end{equation}\n",
    "\n",
    "这里 $Q^{-1}_{opt}$ 表示源小波频率范围内的目标常数逆Q值和 \n",
    "\n",
    "\\begin{equation}\n",
    "Q^{-1}(Y_l,\\omega) = \\sum_{l=1}^L Y_l \\frac{\\omega_l\\omega}{\\omega^2+\\omega_l^2}\\notag\n",
    "\\end{equation}\n",
    "\n",
    "是GMB Q值谱的近似值对于 $Q>>1$ 根据 ([Blanch et al. 1995](https://library.seg.org/doi/abs/10.1190/1.1443744), [Bohlen 2002](https://www.sciencedirect.com/science/article/pii/S0098300402000067), [Yang et al. 2016](https://jean-virieux.obs.ujf-grenoble.fr/IMG/pdf/2016_yang_viscoelastic_final-3.pdf)). 目标函数可以用局部或全局优化方法最小化。在本例中，我们将使用全局优化 [Differential Evolution (DE)](https://pablormier.github.io/2017/09/05/a-tutorial-on-differential-evolution-with-python/) 公式从 `SciPy Optimization` 库中。\n",
    "\n",
    "在下面的例子中，我们希望通过(2,2)-FD算法解决粘弹性SH问题，该算法适用于均匀模型，使用4个麦克斯韦体和目标，在5到100 Hz的频段内Q=20恒定值:"
   ]
  },
  {
   "cell_type": "code",
   "execution_count": 2,
   "metadata": {},
   "outputs": [],
   "source": [
    "# Define GMB models\n",
    "# -----------------\n",
    "Qopt = 20     # target Q-value\n",
    "L = 4         # number of Maxwell bodies    \n",
    "nfreq = 50    # number of frequencies to estimate Q-model\n",
    "\n",
    "fmin = 5.     # minimum frequency \n",
    "fmax = 100.0  # maximum frequency\n",
    "\n",
    "f = np.linspace(fmin,fmax,num=nfreq)  # calculate frequencies to estimate Q-model\n",
    "w = 2 * np.pi * f                     # circular frequencies to estimate Q-model \n",
    "\n",
    "fl = np.linspace(fmin,fmax,num=L)  # calculate relaxation frequencies\n",
    "wl = 2 * np.pi * fl                # circular relaxation frequencies "
   ]
  },
  {
   "cell_type": "markdown",
   "metadata": {},
   "source": [
    "接下来，我们定义要优化的目标函数 $Y_l$ ..."
   ]
  },
  {
   "cell_type": "code",
   "execution_count": 3,
   "metadata": {},
   "outputs": [],
   "source": [
    "# Objective function to optimize Yl values\n",
    "# ----------------------------------------\n",
    "def obj_Yl(Yl):                   \n",
    "    \n",
    "    # Calculate Qs model based on GMB\n",
    "    # -------------------------------\n",
    "    Qinv_GMB = np.zeros(nfreq)\n",
    "    Qinv_const = (1/Qopt) * np.ones(nfreq)\n",
    "    \n",
    "    for l in range (0,L):    \n",
    "        Qinv_GMB += Yl[l] * (wl[l] * w) / (w**2+wl[l]**2)\n",
    "    \n",
    "    # Calculate objective function\n",
    "    obj_Qinv = np.sum((Qinv_GMB - Qinv_const)**2)\n",
    "    \n",
    "    return obj_Qinv"
   ]
  },
  {
   "cell_type": "markdown",
   "metadata": {},
   "source": [
    "为给定的 $Y_l$ 值计算Q值谱的函数也可能很有用 ..."
   ]
  },
  {
   "cell_type": "code",
   "execution_count": 4,
   "metadata": {},
   "outputs": [],
   "source": [
    "# Calculate Q-spectrum for given Yl parameters and circular relaxation frequencies\n",
    "# --------------------------------------------------------------------------------\n",
    "def calc_Q(Yl):            \n",
    "    \n",
    "    # Calculate Qs model based on GMB\n",
    "    # -------------------------------\n",
    "    Qinv_GMB = np.zeros(nfreq)    \n",
    "    for l in range (0,L):    \n",
    "        Qinv_GMB += Yl[l] * (wl[l] * w) / (w**2+wl[l]**2) \n",
    "    \n",
    "    return f, Qinv_GMB"
   ]
  },
  {
   "cell_type": "markdown",
   "metadata": {},
   "source": [
    "为了优化 $Y_l$ 值，我们定义去算法所需的边界，最小化目标函数，存储结果 $Y_l$ 值并绘制优化的Q值谱"
   ]
  },
  {
   "cell_type": "code",
   "execution_count": 6,
   "metadata": {},
   "outputs": [
    {
     "name": "stdout",
     "output_type": "stream",
     "text": [
      "  Final obj_Qinv =  7.651581415594756e-05\n",
      "Yl =  [8.71040725e-02 3.66206983e-02 6.41241839e-07 6.29712089e-02]\n",
      "wl =  [ 31.41592654 230.38346126 429.35099599 628.31853072]\n"
     ]
    },
    {
     "data": {
      "image/png": "[encoded data removed]",
      "text/plain": [
       "<Figure size 700x500 with 1 Axes>"
      ]
     },
     "metadata": {},
     "output_type": "display_data"
    }
   ],
   "source": [
    "# Optimize dimensionless, anelastic coefficients Yl\n",
    "# -------------------------------------------------\n",
    "\n",
    "# Define bound constraints for DE algorithm\n",
    "bounds = [(0.0, 1), (0.0, 1), (0.0, 1), (0.0, 1)]\n",
    "\n",
    "# Optimize Q-model by Differential Evolution\n",
    "DE_result = differential_evolution(obj_Yl, bounds)\n",
    "print('  Final obj_Qinv = ', DE_result.fun)\n",
    "\n",
    "# Calculate optimum Q model\n",
    "f, Qinv_GMB = calc_Q(DE_result.x)\n",
    "\n",
    "# Store and display optimized Yl, wl values\n",
    "Yl = np.zeros(L)\n",
    "Yl = DE_result.x\n",
    "print('Yl = ', Yl)\n",
    "print('wl = ', wl)\n",
    "\n",
    "# Calculate Q(omega)\n",
    "Q = 1 / Qinv_GMB\n",
    "\n",
    "# Define figure size\n",
    "rcParams['figure.figsize'] = 7, 5\n",
    "\n",
    "# plot stress-strain relation\n",
    "plt.plot(f, Q, 'r-',lw=3,label=\"Generalized Maxwell model\") \n",
    "plt.title(r'$Q(\\omega)$ for Generalized Maxwell model')\n",
    "plt.xlabel('Frequency f [Hz]')\n",
    "plt.ylabel(r'$Q$ []')\n",
    "plt.ylim(0,2*Qopt)\n",
    "plt.grid()\n",
    "plt.show()"
   ]
  },
  {
   "cell_type": "markdown",
   "metadata": {},
   "source": [
    "像往常一样，我们定义建模参数 ..."
   ]
  },
  {
   "cell_type": "code",
   "execution_count": 7,
   "metadata": {
    "code_folding": [],
    "scrolled": false
   },
   "outputs": [],
   "source": [
    "# Definition of modelling parameters\n",
    "# ----------------------------------\n",
    "xmax = 500.0 # maximum spatial extension of the 1D model in x-direction (m)\n",
    "tmax = 0.502   # maximum recording time of the seismogram (s)\n",
    "\n",
    "vs0  = 580.   # S-wave speed in medium (m/s)\n",
    "rho0 = 1000.  # Density in medium (kg/m^3)\n",
    "\n",
    "# acquisition geometry\n",
    "xr = 330.0 # x-receiver position (m)\n",
    "\n",
    "xsrc = 250.0 # x-source position (m)\n",
    "\n",
    "f0   = 40. # dominant frequency of the source (Hz)\n",
    "t0   = 4. / f0 # source time shift (s)"
   ]
  },
  {
   "cell_type": "markdown",
   "metadata": {},
   "source": [
    "接下来，我们首先测试一维SH代码的弹性部分，并将其与解析解进行比较，最后运行粘弹性SH代码。"
   ]
  },
  {
   "cell_type": "markdown",
   "metadata": {},
   "source": [
    "## 均匀Vs模型二维有限差分与解析解的比较\n",
    "\n",
    "在原先的 [exercise](https://danielkoehnsite.files.wordpress.com/2018/04/ex_02_tew21.pdf)中，你证明了均匀一维声学和一维弹性SH问题的解析解，除了密度因子 $1/\\rho_0$ 之外，实际上是相同的。在下面的函数中，我们用集中的二阶时空差分算子求解齐次一维SH问题，并将数值结果与解析解进行比较: \n",
    "\n",
    "\\begin{equation}\n",
    "u_{y,analy}(x,t) = G_{1D} * S \\nonumber \n",
    "\\end{equation}\n",
    "\n",
    "1D Green's function:\n",
    "\n",
    "\\begin{equation}\n",
    "G_{1D}(x,t) = \\dfrac{1}{2 \\rho_0 V_{s0}}H\\biggl((t-t_s)-\\dfrac{|r|}{V_{s0}}\\biggr), \\nonumber \n",
    "\\end{equation}\n",
    "\n",
    "这里 $H$ 表示Heaviside函数, $r = \\sqrt{(x-x_s)^2}$ 为震源-接收器之间的距离 (offset)，$S$ 为震源子波。记住，应力-速度代码计算的是 **粒子速度** $\\mathbf{v_{y,analy}}$, 而解析解表达的是 **位移** $\\mathbf{u_{y,analy}}$. 因此，在比较数值解和解析解之前，我们必须对解析解求一阶导数:\n",
    "\n",
    "\\begin{equation}\n",
    "v_{y,analy}(x,t) = \\frac{\\partial u_{y,analy}}{\\partial t} \\nonumber \n",
    "\\end{equation}\n",
    "\n",
    "为了实现二维SH代码，我们首先引入函数来更新粒子速度 $v_y$ ..."
   ]
  },
  {
   "cell_type": "code",
   "execution_count": 15,
   "metadata": {},
   "outputs": [],
   "source": [
    "# Particle velocity vy update\n",
    "# ---------------------------\n",
    "@jit(nopython=True) # use JIT for C-performance\n",
    "def update_vel(vy, syx, dx, dt, nx, rho):\n",
    "    \n",
    "    for i in range(1, nx - 1):\n",
    "            \n",
    "        # Calculate spatial derivatives            \n",
    "        syx_x = (syx[i] - syx[i - 1]) / dx\n",
    "\n",
    "        # Update particle velocities\n",
    "        vy[i] = vy[i] + (dt/rho[i]) * syx_x                \n",
    "                    \n",
    "    return vy"
   ]
  },
  {
   "cell_type": "markdown",
   "metadata": {},
   "source": [
    "... 更新弹性介质的剪切应力部分 $\\sigma_{yx}$ ..."
   ]
  },
  {
   "cell_type": "code",
   "execution_count": 9,
   "metadata": {},
   "outputs": [],
   "source": [
    "# Shear stress syx updates (elastic)\n",
    "# ----------------------------------\n",
    "@jit(nopython=True) # use JIT for C-performance\n",
    "def update_stress(vy, syx, dx, dt, nx, mux):\n",
    "    \n",
    "    for i in range(1, nx - 1):\n",
    "            \n",
    "        # Calculate spatial derivatives            \n",
    "        vy_x = (vy[i + 1] - vy[i]) / dx\n",
    "\n",
    "        # Update shear stress\n",
    "        syx[i] = syx[i] + dt * mux[i] * vy_x\n",
    "                    \n",
    "    return syx"
   ]
  },
  {
   "cell_type": "markdown",
   "metadata": {},
   "source": [
    "... 粘弹性情况下的剪切应力更新函数 $\\sigma_{yx}$ ..."
   ]
  },
  {
   "cell_type": "code",
   "execution_count": 10,
   "metadata": {},
   "outputs": [],
   "source": [
    "# Shear stress syx updates (viscoelastic)\n",
    "# ---------------------------------------\n",
    "@jit(nopython=True) # use JIT for C-performance\n",
    "def update_stress_visc(vy, syx, xi, Yl, wl, L, dx, dt, nx, mux):\n",
    "    \n",
    "    for i in range(1, nx - 1):\n",
    "            \n",
    "        # Calculate spatial derivatives            \n",
    "        vy_x = (vy[i + 1] - vy[i]) / dx        \n",
    "        \n",
    "        # Calculate sum over memory variables\n",
    "        xi_sum = 0.0\n",
    "        for l in range(0, L):\n",
    "            xi_sum += Yl[l] * xi[i,l]\n",
    "        \n",
    "        # Update shear stress \n",
    "        # Note that the factor 0.5 in front of the memory variables sum \n",
    "        # is due to the arithmetic averaging of the xi variables at \n",
    "        # the staggered time steps\n",
    "        syx[i] = syx[i] + dt * mux[i] * (vy_x - 0.5 * xi_sum)\n",
    "        \n",
    "        # Update memory variables\n",
    "        xi_sum = 0.0\n",
    "        for l in range(0, L):\n",
    "            xi[i,l] += dt * wl[l] * (vy_x - xi[i,l])\n",
    "            \n",
    "            # After xi update calculate new xi_sum ...\n",
    "            xi_sum += Yl[l] * xi[i,l]\n",
    "        \n",
    "        # ... and finish stress update\n",
    "        syx[i] = syx[i] - dt * mux[i] * xi_sum\n",
    "        \n",
    "    return syx, xi"
   ]
  },
  {
   "cell_type": "markdown",
   "metadata": {},
   "source": [
    "... 和(非松弛)剪切模量谐波平均 ..."
   ]
  },
  {
   "cell_type": "code",
   "execution_count": 16,
   "metadata": {},
   "outputs": [],
   "source": [
    "# Harmonic averages of shear modulus\n",
    "# ----------------------------------\n",
    "@jit(nopython=True) # use JIT for C-performance\n",
    "def shear_avg(mu, nx, mux):\n",
    "    \n",
    "    for i in range(1, nx - 1):\n",
    "            \n",
    "        # Calculate harmonic averages of shear moduli        \n",
    "        mux[i] = 2 / (1 / mu[i + 1] + 1 / mu[i])\n",
    "            \n",
    "    return mux"
   ]
  },
  {
   "cell_type": "markdown",
   "metadata": {},
   "source": [
    "最后，我们可以组装主有限差分代码 ..."
   ]
  },
  {
   "cell_type": "code",
   "execution_count": 12,
   "metadata": {
    "code_folding": [
     42
    ]
   },
   "outputs": [],
   "source": [
    "# 2D SH viscoelastic wave propagation (Finite Difference Solution) \n",
    "# ----------------------------------------------------------------\n",
    "def FD_1D_visc_SH_JIT(dt,dx,f0,xsrc,Yl,wl,L,mode):\n",
    "        \n",
    "    nx = (int)(xmax/dx) # number of grid points in x-direction\n",
    "    print('nx = ',nx)    \n",
    "            \n",
    "    nt = (int)(tmax/dt) # maximum number of time steps            \n",
    "    print('nt = ',nt)\n",
    "    \n",
    "    ir = (int)(xr/dx)      # receiver location in grid in x-direction    \n",
    "    isrc = (int)(xsrc/dx)  # source location in grid in x-direction\n",
    "\n",
    "    # Source time function (Gaussian)\n",
    "    # -------------------------------\n",
    "    src  = np.zeros(nt + 1)\n",
    "    time = np.linspace(0 * dt, nt * dt, nt)\n",
    "\n",
    "    # 1st derivative of a Gaussian\n",
    "    src  = -2. * (time - t0) * (f0 ** 2) * (np.exp(- (f0 ** 2) * (time - t0) ** 2))\n",
    "\n",
    "    # Analytical solution\n",
    "    # -------------------\n",
    "    G        = time * 0.\n",
    "    vy_analy = time * 0.\n",
    "\n",
    "    # Initialize coordinates\n",
    "    # ----------------------\n",
    "    x    = np.arange(nx)\n",
    "    x    = x * dx       # coordinates in x-direction (m)\n",
    "    \n",
    "    # calculate source-receiver distance\n",
    "    r = np.sqrt((x[ir] - x[isrc])**2)\n",
    "    \n",
    "    for it in range(nt): # Calculate Green's function (Heaviside function)\n",
    "        if (time[it] - r / vs0) >= 0:\n",
    "            G[it] = 1. / (2 * rho0 * vs0)\n",
    "    Gc   = np.convolve(G, src * dt)\n",
    "    Gc   = Gc[0:nt]\n",
    "    \n",
    "    # compute vy_analy from uy_analy\n",
    "    for i in range(1, nt - 1):\n",
    "        vy_analy[i] = (Gc[i+1] - Gc[i-1]) / (2.0 * dt)           \n",
    "    \n",
    "    # Initialize empty wavefield arrays\n",
    "    # ---------------------------------\n",
    "    vy    = np.zeros(nx) # particle velocity vy\n",
    "    syx   = np.zeros(nx) # shear stress syx     \n",
    "\n",
    "    # Initialize model (assume homogeneous model)\n",
    "    # -------------------------------------------    \n",
    "    vs    = np.zeros(nx)\n",
    "    vs    = vs + vs0      # initialize wave velocity in model\n",
    "    \n",
    "    rho   = np.zeros(nx)\n",
    "    rho   = rho + rho0    # initialize wave velocity in model\n",
    "    \n",
    "    # calculate shear modulus\n",
    "    # -----------------------\n",
    "    mu    = np.zeros(nx)\n",
    "    mu    = rho * vs ** 2 \n",
    "    \n",
    "    # Estimate unrelaxed shear modulus in viscoelastic case\n",
    "    # -----------------------------------------------------\n",
    "    if(mode=='visc'):\n",
    "        mu1 = mu / (1 - np.sum(Yl))\n",
    "    \n",
    "    # harmonic average of shear moduli\n",
    "    # --------------------------------\n",
    "    if(mode=='elast'):\n",
    "        mux   = mu # initialize harmonic average mux\n",
    "    \n",
    "    if(mode=='visc'):\n",
    "        mux   = mu1 # initialize harmonic average mux \n",
    "    \n",
    "    mux = shear_avg(mu, nx, mux)\n",
    "    \n",
    "    # Initialize memory variables\n",
    "    # ---------------------------\n",
    "    if(mode=='visc'):\n",
    "        xi = np.zeros((nx,L))\n",
    "    \n",
    "    # Initialize empty seismogram\n",
    "    # ---------------------------\n",
    "    seis = np.zeros(nt) \n",
    "    \n",
    "    # Time looping\n",
    "    # ------------\n",
    "    for it in range(nt):\n",
    "    \n",
    "        # Update particle velocity vy\n",
    "        # ---------------------------\n",
    "        vy = update_vel(vy, syx, dx, dt, nx, rho)\n",
    "\n",
    "        # Add Source Term at isrc\n",
    "        # ------------------------------\n",
    "        # Absolute particle velocity w.r.t analytical solution\n",
    "        vy[isrc] = vy[isrc] + (dt * src[it] / (rho[isrc] * dx))\n",
    "        \n",
    "        # Update shear stress syx, syz\n",
    "        # ----------------------------\n",
    "        if(mode=='elast'):\n",
    "            syx = update_stress(vy, syx, dx, dt, nx, mux)                \n",
    "            \n",
    "        if(mode=='visc'):\n",
    "            syx, xi = update_stress_visc(vy, syx, xi, Yl, wl, L, dx, dt, nx, mux)                           \n",
    "            \n",
    "        # Output of Seismogram\n",
    "        # -----------------\n",
    "        seis[it] = vy[ir]   \n",
    "        \n",
    "    # Compare FD Seismogram with analytical solution\n",
    "    # ---------------------------------------------- \n",
    "    # Define figure size\n",
    "    rcParams['figure.figsize'] = 12, 5\n",
    "    \n",
    "    if(mode=='elast'):\n",
    "        label = \"Elastic FD solution\"\n",
    "        \n",
    "    if(mode=='visc'):\n",
    "        label = \"Viscoelastic FD solution (Q = \" + str(Qopt) + \")\"    \n",
    "    \n",
    "    plt.plot(time, seis, 'b-',lw=3,label=label) # plot FD seismogram\n",
    "    Analy_seis = plt.plot(time,vy_analy,'r--',lw=3,label=\"Elastic analytical solution\") # plot analytical solution\n",
    "    plt.xlim(time[0], time[-1])\n",
    "    plt.title('Seismogram')\n",
    "    plt.xlabel('Time (s)')\n",
    "    plt.ylabel('Amplitude')\n",
    "    plt.legend()\n",
    "    plt.grid()\n",
    "    plt.show()"
   ]
  },
  {
   "cell_type": "markdown",
   "metadata": {},
   "source": [
    "... 运行弹性有限差分代码，并将结果与解析解进行比较:"
   ]
  },
  {
   "cell_type": "code",
   "execution_count": 13,
   "metadata": {},
   "outputs": [
    {
     "name": "stdout",
     "output_type": "stream",
     "text": [
      "nx =  500\n",
      "nt =  502\n"
     ]
    },
    {
     "data": {
      "image/png": "[encoded data removed]",
      "text/plain": [
       "<Figure size 1200x500 with 1 Axes>"
      ]
     },
     "metadata": {},
     "output_type": "display_data"
    },
    {
     "name": "stdout",
     "output_type": "stream",
     "text": [
      "CPU times: user 406 ms, sys: 133 ms, total: 538 ms\n",
      "Wall time: 328 ms\n"
     ]
    }
   ],
   "source": [
    "%%time\n",
    "# FD modelling of homogeneous elastic medium\n",
    "# ------------------------------------------\n",
    "dx   = 1.0   # grid point distance in x-direction (m)\n",
    "dt = 0.001   # time step (s)\n",
    "\n",
    "FD_1D_visc_SH_JIT(dt,dx,f0,xsrc,Yl,wl,L,'elast')"
   ]
  },
  {
   "cell_type": "markdown",
   "metadata": {},
   "source": [
    "运行粘弹性有限差分代码，并将结果与解析解进行比较:"
   ]
  },
  {
   "cell_type": "code",
   "execution_count": 14,
   "metadata": {},
   "outputs": [
    {
     "name": "stdout",
     "output_type": "stream",
     "text": [
      "nx =  500\n",
      "nt =  502\n"
     ]
    },
    {
     "data": {
      "image/png": "[encoded data removed]",
      "text/plain": [
       "<Figure size 1200x500 with 1 Axes>"
      ]
     },
     "metadata": {},
     "output_type": "display_data"
    },
    {
     "name": "stdout",
     "output_type": "stream",
     "text": [
      "CPU times: user 359 ms, sys: 134 ms, total: 493 ms\n",
      "Wall time: 229 ms\n"
     ]
    }
   ],
   "source": [
    "%%time\n",
    "# FD modelling of homogeneous viscoelastic medium\n",
    "# -----------------------------------------------\n",
    "dx   = 1.0   # grid point distance in x-direction (m)\n",
    "dt = 0.001   # time step (s)\n",
    "\n",
    "FD_1D_visc_SH_JIT(dt,dx,f0,xsrc,Yl,wl,L,'visc')"
   ]
  },
  {
   "cell_type": "markdown",
   "metadata": {},
   "source": [
    "## 我们学习到:\n",
    "\n",
    "* 如何用交错网格有限差分法求解一维粘弹性SH问题\n",
    "* 利用全局优化差分进化算法优化非弹性系数 $Y_l$，以获得恒定的Q值谱\n",
    "* 比较了 $Q=20$ 的本征阻尼对弹性解析解的影响"
   ]
  }
 ],
 "metadata": {
  "anaconda-cloud": {},
  "kernelspec": {
   "display_name": "Python 3 (ipykernel)",
   "language": "python",
   "name": "python3"
  },
  "language_info": {
   "codemirror_mode": {
    "name": "ipython",
    "version": 3
   },
   "file_extension": ".py",
   "mimetype": "text/x-python",
   "name": "python",
   "nbconvert_exporter": "python",
   "pygments_lexer": "ipython3",
   "version": "3.9.13"
  }
 },
 "nbformat": 4,
 "nbformat_minor": 1
}
