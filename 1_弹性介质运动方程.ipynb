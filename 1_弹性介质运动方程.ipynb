{
 "cells": [
  {
   "cell_type": "markdown",
   "metadata": {},
   "source": [
    "###### Content under Creative Commons Attribution license CC-BY 4.0, code under BSD 3-Clause License © 2018 D. Koehn, notebook style sheet by L.A. Barba, N.C. Clementi\n",
    "\n",
    "###### Translated by Huizhe Di @ SCSIO"
   ]
  },
  {
   "cell_type": "markdown",
   "metadata": {},
   "source": [
    "# 地震波在线性弹性介质中的传播\n",
    "\n",
    "我将很快回顾描述波在线性弹性介质中传播的运动方程。课堂讲稿的第二章描述了控制方程的详细推导:\n",
    "\n",
    "[\"Theory of elastic waves\" by Gerhard Müller](https://www.geo.uni-hamburg.de/geophysik/studium/bsc-geophysik-ozeanographie/module/vertiefung-geophysik/vgsw/seismicwaves-mueller2013.pdf)"
   ]
  },
  {
   "cell_type": "markdown",
   "metadata": {},
   "source": [
    "## 线性弹性运动方程\n",
    "\n",
    "我们可以用以下方法来描述连续介质中的“动量守恒”\n",
    "\n",
    "\\begin{equation}\n",
    "\\rho \\frac{\\partial^2 u_i}{\\partial t^2} = \\sum_{j=1}^{3} \\frac{\\partial}{\\partial x_j} \\sigma_{ij} + f_i\n",
    "\\end{equation}\n",
    "\n",
    "\n",
    "\\begin{align}\n",
    "u_i &= 位移, \\nonumber\\\\\n",
    "\\sigma_{ij} &= 应力张量, \\nonumber\\\\\n",
    "t &= 时间, \\nonumber\\\\\n",
    "x_i &= 空间坐标,\\; e.g. (x_1,x_2,x_3)\\; :=\\; (x,y,z), \\nonumber\\\\\n",
    "\\rho &= 密度. \\nonumber\\\\\n",
    "\\end{align}\n",
    "\n",
    "这个偏微分方程组只是说明我们可以改变介质中的动量 (LHS) 用表面力通过对称应力张量 $\\sigma_{ij}$ 或者体力 $f_i$ (RHS).\n",
    "\n",
    "这些方程与介质状态无关，无论介质是液体、固体还是气体. 因此，当对介质施加一定的应力时，需要额外的方程来描述介质是如何变形的。\n",
    "\n",
    "在远离源位置的一点上，我们可以假设一个很小的位移 $u_i$. 在这种情况下，应力 $\\sigma_{ij}$ 和介质变形 $\\epsilon_{ij}$ is 之间的关系是线性关系，被称为 **广义胡克定律**:\n",
    "\n",
    "\n",
    "\n",
    "\n",
    "\\begin{equation}\n",
    "\\sigma_{ij} = \\sum_{k=1}^{3}\\sum_{l=1}^{3} c_{ijkl}\\; \\epsilon_{kl},\n",
    "\\end{equation}\n",
    "\n",
    "\n",
    "在这里，应变张量 \n",
    "\n",
    "\n",
    "\\begin{equation}\n",
    "\\epsilon_{ij} = \\frac{1}{2}\\biggl(\\frac{\\partial u_i}{\\partial x_j} + \\frac{\\partial u_j}{\\partial x_i}\\biggr) \\nonumber\n",
    "\\end{equation}\n",
    "\n",
    "\n",
    "描述了变形状态. 注意应力张量的对称性\n",
    "\\begin{equation}\n",
    "\\epsilon_{ij} = \\epsilon_{ji} \\nonumber\n",
    "\\end{equation}\n",
    "四阶 **弹性张量** $\\mathbf c_{ijkl}$ 有 81 (= 9 x 9 )个分量. 由于应力张量和应变张量的对称性，只有36 (=\n",
    "6 x 6) 个分量是独立的. 由于弹性变形能(=弹性每体积单位的能量)是一个状态函数，组分的数量可以进一步减少到21 (Aki and Richards (1980), p.21-23). 这是各向异性线弹性介质所能具有的独立弹性常数的最大值.\n",
    "\n",
    "为了引入一个更简单的表示法, 我忽略了上述方程中波场 $v_i$, $\\sigma_{ij}$ 依赖于空间坐标 $x_i$ 和时间 $t$ 的事实. 材料参数 $\\rho$, $c_{ijkl}$ 假定在大多数情况下，只依赖于空间，而没有时间性的变化. \n",
    "\n",
    "这个简单的偏微分方程组 (1) + (2), 加上一定的初始条件和边界条件，就是我们描述地震波场在线弹性介质中的传播所需要的一切. 这包括体波、面波、(多重)反射波、折射波、绕射波、P-S或S-P转换波 ... 如果要我打赌谁能更准确地预测地震波场的到达时间和振幅，是物理学家还是算命先生，我会赌物理学家. 想一下, 方程(1) + (2)让我们可以预测未来!\n",
    "\n",
    "唯一的要求是我们知道次表面的密度 $\\rho$ 和弹性张量分量 $c_{ijkl}$ 的分布. 然后我们可以用解析法或数值法求解偏微分方程。\n",
    "\n",
    "你将在接下来的课程中学习如何做到这一点。\n"
   ]
  },
  {
   "cell_type": "markdown",
   "metadata": {},
   "source": [
    "### 讲义主题\n",
    "\n",
    "为了解决所有问题 [Lecture 0 - Overview](https://danielkoehnsite.files.wordpress.com/2019/04/lect_00_overview_tew2.pdf),\n",
    "我们需要对方程 (1) + (2)做一些适当的改动:\n",
    "\n",
    "* 为了在数值上求解方程(1) + (2) , 我们必须在笛卡尔网格上离散材料参数和波场，用**有限差分**算子代替偏微分算子\n",
    "\n",
    "* **地震各向异性** 已经用弹性张量描述 $c_{ijkl}$ , 我们只需要了解不同张量分量对地震波场的影响\n",
    "* 为了实现**粘弹性阻尼**，我们需要修改方程(2)，弹性张量分量，并添加一些额外的偏微分方程\n",
    "* 为了对**频率域波场**建模，我们可以对建模的时域波场应用离散傅里叶变换，或者对方程(1)进行傅里叶变换\n",
    "* ****全球地震波传播**需要从笛卡尔坐标系转换到球坐标系。这只影响方程(1)的空间导数和变形张量 $\\epsilon_{ij}$, 不影响方程(2)"
   ]
  },
  {
   "cell_type": "markdown",
   "metadata": {},
   "source": [
    "## 其他一些符号\n",
    "\n",
    "地球物理学家是出了名的懒惰，所以我介绍了方程(1) +(2)的一些更简单的符号. 首先，我们可以摆脱求和通过引入[爱因斯坦符号](https://en.wikipedia.org/wiki/Einstein_notation), 重复指标假设为和. 例如，(m × n)矩阵 $a_{ij}$ 与(n × 1)列向量的乘积 $x_j$\n",
    "\n",
    "\n",
    "\\begin{align}\n",
    "g_i = \\sum_{j=1}^n a_{ij} x_j\\; (i=1,2,...,m)\\nonumber\n",
    "\\end{align}\n",
    "\n",
    "通过引入爱因斯坦符号变为 \n",
    "\n",
    "\\begin{align}\n",
    "g_i = a_{ij} x_j\\nonumber\n",
    "\\end{align}\n",
    "\n",
    "因此，我们可以把方程(1)和(2)写为\n",
    "\n",
    "\\begin{align}\n",
    "\\rho \\frac{\\partial^2 u_i}{\\partial t^2} &= \\frac{\\partial}{\\partial x_j} \\sigma_{ij} + f_i \\nonumber \\\\\n",
    "\\sigma_{ij} &= c_{ijkl}\\; \\epsilon_{kl} \\nonumber\n",
    "\\end{align}\n",
    "\n",
    "在应力-应变关系中，爱因斯坦符号必须应用两次。或者，我们也可以用向量符号:\n",
    "\n",
    "\\begin{align}\n",
    "\\rho \\frac{\\partial^2 \\mathbf{u}}{\\partial t^2} &= \\mathbf{\\nabla} \\cdot \\mathbf{\\sigma} + \\mathbf{f} \\nonumber \\\\\n",
    "\\mathbf \\sigma &= \\mathbf{c} : \\mathbf \\epsilon \\nonumber \\\\\n",
    "\\mathbf \\epsilon &= \\frac{1}{2}\\biggl(\\mathbf{\\nabla\\; u} + (\\mathbf{\\nabla\\; u})^T\\biggr) \\nonumber\n",
    "\\end{align}"
   ]
  },
  {
   "cell_type": "markdown",
   "metadata": {},
   "source": [
    "## 我们学习到:\n",
    "\n",
    "* 线性弹性运动方程\n",
    "* 在下面的讲义中，我们将解决哪些问题\n",
    "* 线性弹性运动方程的另一种符号"
   ]
  },
  {
   "cell_type": "markdown",
   "metadata": {},
   "source": [
    "## 参考文献\n",
    "\n",
    "1. [\"Theory of elastic waves\" lectures notes by Gerhard Müller](https://www.geo.uni-hamburg.de/geophysik/studium/bsc-geophysik-ozeanographie/module/vertiefung-geophysik/vgsw/seismicwaves-mueller2013.pdf) (2007) edited by Michael Weber, Georg Rümpker and Dirk Gajewski. \n",
    "2. _Quantitative Seismology_ (1980). Keiiti Aki and Paul G. Richards. \n"
   ]
  }
 ],
 "metadata": {
  "anaconda-cloud": {},
  "kernelspec": {
   "display_name": "Python 3 (ipykernel)",
   "language": "python",
   "name": "python3"
  },
  "language_info": {
   "codemirror_mode": {
    "name": "ipython",
    "version": 3
   },
   "file_extension": ".py",
   "mimetype": "text/x-python",
   "name": "python",
   "nbconvert_exporter": "python",
   "pygments_lexer": "ipython3",
   "version": "3.9.13"
  },
  "widgets": {
   "state": {},
   "version": "1.1.2"
  }
 },
 "nbformat": 4,
 "nbformat_minor": 1
}
