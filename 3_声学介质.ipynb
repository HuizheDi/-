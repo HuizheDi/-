{
 "cells": [
  {
   "cell_type": "markdown",
   "metadata": {},
   "source": [
    "###### Content under Creative Commons Attribution license CC-BY 4.0, code under BSD 3-Clause License © 2018 D. Koehn, notebook style sheet by L.A. Barba, N.C. Clementi\n",
    "\n",
    "###### Translated by Huizhe Di @ SCSIO"
   ]
  },
  {
   "cell_type": "markdown",
   "metadata": {},
   "source": [
    "# 各向同性声学介质\n",
    "\n",
    "从三维各向同性线弹性介质出发，导出了三维声波介质的波动方程"
   ]
  },
  {
   "cell_type": "markdown",
   "metadata": {},
   "source": [
    "## 三维声学波动方程\n",
    "\n",
    "从各向同性线弹性介质的三维运动方程出发\n",
    "\n",
    "\\begin{align}\n",
    "\\rho\\frac{\\partial^2 u_1}{\\partial t^2} &= \\frac{\\partial \\sigma_{11}}{\\partial x_1} + \\frac{\\partial \\sigma_{12}}{\\partial x_2} + \\frac{\\partial \\sigma_{13}}{\\partial x_3} \\nonumber \\\\\n",
    "\\rho\\frac{\\partial^2 u_2}{\\partial t^2} &= \\frac{\\partial \\sigma_{21}}{\\partial x_1} + \\frac{\\partial \\sigma_{22}}{\\partial x_2} + \\frac{\\partial \\sigma_{23}}{\\partial x_3} \\nonumber \\\\\n",
    "\\rho\\frac{\\partial^2 u_3}{\\partial t^2} &= \\frac{\\partial \\sigma_{31}}{\\partial x_1} + \\frac{\\partial \\sigma_{32}}{\\partial x_2} + \\frac{\\partial \\sigma_{33}}{\\partial x_3} \\nonumber \\\\\n",
    "\\sigma_{11} &= \\lambda(\\epsilon_{11}+\\epsilon_{22}+\\epsilon_{33}) + 2 \\mu \\epsilon_{11}\\nonumber \\\\\n",
    "\\sigma_{22} &= \\lambda(\\epsilon_{11}+\\epsilon_{22}+\\epsilon_{33}) + 2 \\mu \\epsilon_{22}\\nonumber \\\\\n",
    "\\sigma_{33} &= \\lambda(\\epsilon_{11}+\\epsilon_{22}+\\epsilon_{33}) + 2 \\mu \\epsilon_{33}\\nonumber \\\\\n",
    "\\sigma_{12} &= 2 \\mu \\epsilon_{12}\\nonumber \\\\\n",
    "\\sigma_{13} &= 2 \\mu \\epsilon_{13}\\nonumber \\\\\n",
    "\\sigma_{23} &= 2 \\mu \\epsilon_{23}\\nonumber \\\\\n",
    "\\end{align}\n",
    "\n",
    "通过设置剪切模量 $\\mu=0$，我们可以很容易地推导出声学近似方程, 因此，我们得到:\n",
    "\n",
    "\\begin{align}\n",
    "\\rho\\frac{\\partial^2 u_1}{\\partial t^2} &= \\frac{\\partial \\sigma_{11}}{\\partial x_1} \\\\\n",
    "\\rho\\frac{\\partial^2 u_2}{\\partial t^2} &= \\frac{\\partial \\sigma_{22}}{\\partial x_2} \\\\\n",
    "\\rho\\frac{\\partial^2 u_3}{\\partial t^2} &=  \\frac{\\partial \\sigma_{33}}{\\partial x_3} \\\\\n",
    "\\sigma_{11} &= \\sigma_{22} = \\sigma_{33}  = \\lambda(\\epsilon_{11}+\\epsilon_{22}+\\epsilon_{33}) \\\\\n",
    "\\end{align}\n",
    "\n",
    "从方程(4), 我们定义 **压力 P** as:\n",
    "\n",
    "\\begin{equation}\n",
    "P := (\\sigma_{11}+\\sigma_{22}+\\sigma_{33})/3 = \\lambda(\\epsilon_{11}+\\epsilon_{22}+\\epsilon_{33}) \\nonumber\n",
    "\\end{equation}\n",
    "\n",
    "通过引入偏导数 $\\partial/\\partial x_1$ 对方程(1), $\\partial/\\partial x_2$ 对方程(2) and $\\partial/\\partial x_3$ 对方程(3), 假设 **地下密度恒定**, 我们得到:\n",
    "\n",
    "\\begin{align}\n",
    "\\rho\\frac{\\partial^2}{\\partial t^2} \\frac{\\partial u_1}{\\partial x_1} &= \\frac{\\partial^2 \\sigma_{11}}{\\partial x_1^2} \\\\\n",
    "\\rho\\frac{\\partial^2}{\\partial t^2} \\frac{\\partial u_2}{\\partial x_2} &= \\frac{\\partial^2 \\sigma_{22}}{\\partial x_2^2} \\\\\n",
    "\\rho\\frac{\\partial^2}{\\partial t^2} \\frac{\\partial u_3}{\\partial x_3} &= \\frac{\\partial^2 \\sigma_{33}}{\\partial x_3^2}\n",
    "\\end{align}\n",
    "\n",
    "对方程(5) - (7)相加得到:\n",
    "\n",
    "\\begin{equation}\n",
    "\\rho \\frac{\\partial^2}{\\partial t^2} \\biggl\\{\\frac{\\partial u_1}{\\partial x_1} + \\frac{\\partial u_2}{\\partial x_2} + \\frac{\\partial u_3}{\\partial x_3}\\biggr\\}= \\frac{\\partial^2 \\sigma_{11}}{\\partial x_1^2} + \\frac{\\partial^2 \\sigma_{22}}{\\partial x_2^2} + \\frac{\\partial^2 \\sigma_{33}}{\\partial x_3^2}\n",
    "\\end{equation}\n",
    "\n",
    "或者, 使用方程(4)和压力的定义:\n",
    "\n",
    "\\begin{equation}\n",
    "\\frac{\\rho}{\\lambda} \\frac{\\partial^2 P}{\\partial t^2} = \\frac{\\partial^2 P}{\\partial x_1^2} + \\frac{\\partial^2 P}{\\partial x_2^2} + \\frac{\\partial^2 P}{\\partial x_3^2}\\nonumber\n",
    "\\end{equation}\n",
    "\n",
    "通过P-wave速度在声学介质中的定义 $V_p$\n",
    "\n",
    "\\begin{equation}\n",
    "V_p = \\sqrt{\\frac{\\lambda}{\\rho}}\\nonumber\n",
    "\\end{equation}\n",
    "\n",
    "我们最终得到 **三维声学波动方程**\n",
    "\n",
    "\\begin{equation}\n",
    "\\frac{1}{V_p^2} \\frac{\\partial^2 P}{\\partial t^2} = \\frac{\\partial^2 P}{\\partial x_1^2} + \\frac{\\partial^2 P}{\\partial x_2^2} + \\frac{\\partial^2 P}{\\partial x_3^2}\\nonumber\n",
    "\\end{equation}\n",
    "\n",
    "### 声学介质的例子\n",
    "\n",
    "* 一切与液体有关的事物，如水滴、一杯茶、水坑、人体(骨骼除外，骨骼是各向异性的弹性材料)、湖泊、海洋……\n",
    "* 还有气体介质，比如地球的大气层，像木星这样的巨大气体行星或者像太阳这样的恒星 ...\n",
    "* 不幸的是，固体地球 **不是** 一种声学介质。尽管如此，声学近似在一定程度上还是可以应用的.\n"
   ]
  },
  {
   "cell_type": "markdown",
   "metadata": {},
   "source": [
    "## 我们学习到:\n",
    "\n",
    "* 如何推导三维各向同性的波动方程\n",
    "* 一些声学介质的例子"
   ]
  }
 ],
 "metadata": {
  "anaconda-cloud": {},
  "kernelspec": {
   "display_name": "Python 3 (ipykernel)",
   "language": "python",
   "name": "python3"
  },
  "language_info": {
   "codemirror_mode": {
    "name": "ipython",
    "version": 3
   },
   "file_extension": ".py",
   "mimetype": "text/x-python",
   "name": "python",
   "nbconvert_exporter": "python",
   "pygments_lexer": "ipython3",
   "version": "3.9.13"
  },
  "widgets": {
   "state": {},
   "version": "1.1.2"
  }
 },
 "nbformat": 4,
 "nbformat_minor": 1
}
