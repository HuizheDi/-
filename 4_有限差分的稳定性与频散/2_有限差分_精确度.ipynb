{
 "cells": [
  {
   "cell_type": "markdown",
   "metadata": {},
   "source": [
    "###### Content under Creative Commons Attribution license CC-BY 4.0, code under BSD 3-Clause License © 2018  by D. Koehn, notebook style sheet by L.A. Barba, N.C. Clementi\n",
    "\n",
    "###### Translated by Huizhe Di @ SCSIO"
   ]
  },
  {
   "cell_type": "markdown",
   "metadata": {},
   "source": [
    "# 有限差分算子的精确度\n",
    "\n",
    "在 [有限差分的介绍课](http://nbviewer.jupyter.org/github/daniel-koehn/Theory-of-seismic-waves-II/blob/master/03_Intro_finite_differences/1_fd_intro.ipynb), 我们通过忽略极限引入了一阶导数的有限差分近似 $dx \\rightarrow 0$, 这是一种切线斜率的近似值 $f(x)$ 在点 $x$ 通过正割线的斜率穿过附近的两个点. 为了表征有限差分算子的精确度，我介绍了一种通过泰勒级数扩展的更系统的方法。"
   ]
  },
  {
   "cell_type": "markdown",
   "metadata": {},
   "source": [
    "## 泰勒序列和有限差分算子的精确度\n",
    "\n",
    "我们推到出 **forward FD operator**:\n",
    "\n",
    "\\begin{equation}\n",
    "\\biggl(\\frac{\\partial f(x)}{\\partial x}\\biggr)^+ \\approx \\frac{f(x+dx)-f(x)}{dx}. \\nonumber\n",
    "\\end{equation}\n",
    "\n",
    "通过计算 $f(x+dx)$ 的 **Taylor series expansion** 在点 $x$:\n",
    "\n",
    "\\begin{equation}\n",
    "f(x+dx) \\approx f(x) + \\frac{\\partial f(x)}{\\partial x} dx + \\frac{1}{2}\\frac{\\partial^2 f(x)}{\\partial x^2} dx^2\\; +\\; ...\\nonumber\n",
    "\\end{equation}\n",
    "\n",
    "经过重排 $\\frac{\\partial f(x)}{\\partial x}$, 我们得到\n",
    "\n",
    "\\begin{equation}\n",
    "\\biggl(\\frac{\\partial f(x)}{\\partial x}\\biggr)^+ \\approx \\frac{f(x+dx)-f(x)}{dx} {\\color{red}{-\\frac{1}{2}\\frac{\\partial^2 f(x)}{\\partial x^2} dx}}. \\nonumber\n",
    "\\end{equation}\n",
    "\n",
    "因为泰勒级数的余数项（标记为红色）具有阶数 dx 的项,  有限差分算子\n",
    "\n",
    "\\begin{equation}\n",
    "\\biggl(\\frac{\\partial f(x)}{\\partial x}\\biggr)^+ \\approx \\frac{f(x+dx)-f(x)}{dx}+{\\color{red}{\\mathcal{O}(dx)}} \\nonumber\n",
    "\\end{equation}\n",
    "\n",
    "是一个 **first order FD operator**. 术语“一阶”是指泰勒级数余数的阶数，不应与推导的顺序混淆。 一阶 FD operator 的误差随着 $dx$ 线性减小.\n",
    "\n",
    "使用泰勒展开式\n",
    "\n",
    "\\begin{equation}\n",
    "f(x-dx) \\approx f(x) - \\frac{\\partial f(x)}{\\partial x} dx + \\frac{1}{2}\\frac{\\partial^2 f(x)}{\\partial x^2} dx^2\\; -\\; ...\\nonumber\n",
    "\\end{equation}\n",
    "\n",
    "我们可以看到 **backward FD operator**\n",
    "\n",
    "\\begin{equation}\n",
    "\\biggl(\\frac{\\partial f(x)}{\\partial x}\\biggr)^- \\approx \\frac{f(x)-f(x-dx)}{dx}+{\\color{red}{\\mathcal{O}(dx)}} \\nonumber\n",
    "\\end{equation}\n",
    "\n",
    "也是一个一阶的算子。 \n",
    "\n",
    "**central FD operator** 的精度是什么样呢?\n",
    "为了回答这个问题, 我们扩展泰勒展开式 $f(x+dx)$ and $f(x-dx)$ 通过一个多的项:\n",
    "\n",
    "\\begin{align}\n",
    "f(x+dx) &\\approx f(x) + \\frac{\\partial f(x)}{\\partial x} dx + \\frac{1}{2}\\frac{\\partial^2 f(x)}{\\partial x^2} dx^2 + \\frac{1}{6}\\frac{\\partial^3 f(x)}{\\partial x^3} dx^3 + ...\\nonumber\\\\\n",
    "f(x-dx) &\\approx f(x) - \\frac{\\partial f(x)}{\\partial x} dx + \\frac{1}{2}\\frac{\\partial^2 f(x)}{\\partial x^2} dx^2 - \\frac{1}{6}\\frac{\\partial^3 f(x)}{\\partial x^3} dx^3 + ...\\nonumber\n",
    "\\end{align}\n",
    "\n",
    "相减得到\n",
    "\n",
    "\\begin{equation}\n",
    "f(x+dx) - f(x-dx) \\approx 2\\frac{\\partial f(x)}{\\partial x} dx + \\frac{2}{6}\\frac{\\partial^3 f(x)}{\\partial x^3} dx^3 + ...\\nonumber\n",
    "\\end{equation}\n",
    "\n",
    "求解 $\\frac{\\partial f(x)}{\\partial x}$, 我们推导出 **central FD operator**\n",
    "\n",
    "\\begin{equation}\n",
    "\\biggl(\\frac{\\partial f(x)}{\\partial x}\\biggr)^c \\approx \\frac{f(x+dx)-f(x-dx)}{2dx} {\\color{red}{- \\frac{1}{6}\\frac{\\partial^3 f(x)}{\\partial x^3} dx^2}}. \\nonumber\n",
    "\\end{equation}\n",
    "\n",
    "与正向和后向算子相反，中央算子的泰勒级数余数（标记为红色）的阶数 $dx^2$\n",
    "\n",
    "\\begin{equation}\n",
    "\\biggl(\\frac{\\partial f(x)}{\\partial x}\\biggr)^c \\approx \\frac{f(x+dx)-f(x-dx)}{2dx} + {\\color{red}{\\mathcal{O}(dx^2)}}. \\nonumber\n",
    "\\end{equation}\n",
    "\n",
    "因此，中心近似是 **second order FD operator**, 这意味着误差随 $dx^2$ 减小. 这就解释了为什么中央有限差分算子比前向和后向算子更准确，正如我们在有限差分入门课程中所看到的那样，我们在其中比较了使用不同有限差分算子的高斯算子的第一个推导与解析解。\n",
    "\n",
    "\n",
    "<img src=\"images/FD_error_1st_derivative_gauss.png\" width=\"95%\">\n"
   ]
  },
  {
   "cell_type": "markdown",
   "metadata": {},
   "source": [
    "## 我们学习到:\n",
    "\n",
    "* 如何通过泰勒级数展开估计有限差分算子的精度"
   ]
  }
 ],
 "metadata": {
  "anaconda-cloud": {},
  "kernelspec": {
   "display_name": "Python 3 (ipykernel)",
   "language": "python",
   "name": "python3"
  },
  "language_info": {
   "codemirror_mode": {
    "name": "ipython",
    "version": 3
   },
   "file_extension": ".py",
   "mimetype": "text/x-python",
   "name": "python",
   "nbconvert_exporter": "python",
   "pygments_lexer": "ipython3",
   "version": "3.10.6"
  }
 },
 "nbformat": 4,
 "nbformat_minor": 1
}
