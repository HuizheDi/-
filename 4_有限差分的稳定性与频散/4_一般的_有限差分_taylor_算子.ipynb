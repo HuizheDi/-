{
 "cells": [
  {
   "cell_type": "markdown",
   "metadata": {},
   "source": [
    "###### Content under Creative Commons Attribution license CC-BY 4.0, code under BSD 3-Clause License © 2018 parts of this notebook are from [Derivative Approximation by Finite Differences](https://www.geometrictools.com/Documentation/FiniteDifferences.pdf) by David Eberly,  additional text and SymPy examples by D. Koehn, notebook style sheet by L.A. Barba, N.C. Clementi\n",
    "\n",
    "###### Translated by Huizhe Di @ SCSIO"
   ]
  },
  {
   "cell_type": "markdown",
   "metadata": {},
   "source": [
    "# Taylor有限差分算子的推广\n",
    " \n",
    "在上一课中，我们学习了如何利用泰勒级数展开推导二阶导数的高阶有限差分近似。\n",
    "在下一步我们推导出一个计算有限差分算子的一般方程，其中我使用基于 [\"Derivative Approximation by Finite Differences\" by David Eberly](https://www.geometrictools.com/Documentation/FiniteDifferences.pdf)\n",
    "\n",
    "\n",
    "\n",
    "## 估计任意的有限差分算子通过Taylor级数展开\n",
    "\n",
    "我们可以估计 $d-th$ 阶的导数对于一个方程 $f(x)$ 和误差的顺序 $p>0$ 通过一般的有限差分近似:\n",
    "\n",
    "\\begin{equation}\n",
    "\\frac{h^d}{d!}f^{(d)}(x) = \\sum_{i=i_{min}}^{i_{max}} C_i f(x+ih) + \\cal{O}(h^{d+p})\n",
    "\\end{equation}\n",
    "\n",
    "这里 h 表示等距网格点距离. 通过选择极值指标 $i_{min}$ and $i_{max}$, 你可以定义前向、后向或中心运算符. 有限差分算子的精度是由它的长度定义的，因此也由近似中包含的权重系数 $C_i$ 的数量定义的。 $\\cal{O}(h^{d+p})$ 项可以忽略. \n",
    "\n",
    "\n",
    "最终, 我们可以通过一个Taylor级数展开来近似 $f(x+ih)$ :\n",
    "\n",
    "\\begin{equation}\n",
    "f(x+ih) = \\sum_{n=0}^{\\infty} i^n \\frac{h^n}{n!}f^{(n)}(x)\\nonumber\n",
    "\\end{equation}\n",
    "\n",
    "代入式(1)得到\n",
    "\n",
    "\\begin{align}\n",
    "\\frac{h^d}{d!}f^{(d)}(x) &= \\sum_{i=i_{min}}^{i_{max}} C_i \\sum_{n=0}^{\\infty} i^n \\frac{h^n}{n!}f^{(n)}(x) + \\cal{O}(h^{d+p})\\nonumber\\\\\n",
    "\\end{align}\n",
    "\n",
    "我们可以把等式右边上的第二个和移到前面\n",
    "\n",
    "\\begin{align}\n",
    "\\frac{h^d}{d!}f^{(d)}(x) &= \\sum_{n=0}^{\\infty} \\left(\\sum_{i=i_{min}}^{i_{max}} i^n C_i\\right) \\frac{h^n}{n!}f^{(n)}(x) + \\cal{O}(h^{d+p})\\nonumber\\\\\n",
    "\\end{align}\n",
    "\n",
    "在有限差分近似中，我们只展开泰勒级数到这一项 $n=(d+p)-1$\n",
    "\n",
    "\\begin{align}\n",
    "\\frac{h^d}{d!}f^{(d)}(x) &= \\sum_{n=0}^{(d+p)-1} \\left(\\sum_{i=i_{min}}^{i_{max}} i^n C_i\\right) \\frac{h^n}{n!}f^{(n)}(x) + \\cal{O}(h^{d+p})\\nonumber\\\\\n",
    "\\end{align}\n",
    "\n",
    "忽略掉 $\\cal{O}(h^{d+p})$ 项\n",
    "\n",
    "\\begin{align}\n",
    "\\frac{h^d}{d!}f^{(d)}(x) &= \\sum_{n=0}^{(d+p)-1} \\left(\\sum_{i=i_{min}}^{i_{max}} i^n C_i\\right) \\frac{h^n}{n!}f^{(n)}(x)\\\\\n",
    "\\end{align}\n",
    "\n",
    "乘以 $\\frac{d!}{h^d}$ 导致期望的近似值对于 $d-th$ 方程的导数 f(x):\n",
    "\n",
    "\n",
    "\\begin{align}\n",
    "f^{(d)}(x) &= \\frac{d!}{h^d}\\sum_{n=0}^{(d+p)-1} \\left(\\sum_{i=i_{min}}^{i_{max}} i^n C_i\\right) \\frac{h^n}{n!}f^{(n)}(x)\\\\\n",
    "\\end{align}\n",
    "\n",
    "将式(2)中的近似作为一个等式处理, 这个近似的右边的和中唯一的一项包含 $\\frac{h^d}{d!}f^{d}(x)$ 当 $n = d$, 所以这一项的系数一定是1. 其他项必须消失才能相等，所以这些项的系数必须为0; 因此，有必要\n",
    "\n",
    "\\begin{equation}\n",
    "\\sum_{i=i_{min}}^{i_{max}} i^n C_i=\n",
    "\\begin{cases}\n",
    "0, ~~ 0 \\le n \\le (d+p)-1 ~ \\text{and} ~ n \\ne d\\\\\n",
    "1, ~~ n = d\n",
    "\\end{cases}\\nonumber\\\\\n",
    "\\end{equation}\n",
    "\n",
    "这是一套 $d + p$ 线性方程在 $i_{max} − i_{min} + 1$ 不知道的情况下. 如果我们限制未知数的个数为 $d+p$, 线性系统有一个唯一解。 \n",
    "\n",
    "- A **forward difference approximation** 发生在，如果我们设置 $i_{min} = 0$\n",
    "和 $i_{max} = d + p − 1$. \n",
    "\n",
    "- A **backward difference approximation** 可以实现通过设置 $i_{max} = 0$ 和 $i_{min} = −(d + p − 1)$.\n",
    "\n",
    "- A **centered difference approximation** 发生在，如果我们设置 $i_{max} = −i_{min} = (d + p − 1)/2$ 这里 $d + p$ 必然是一个奇数. 结果表明, $p$ 都可以被选择为偶数，无论 $d$ 和 $i_{max} = (d + p − 1)/2$ 的奇偶性如何.\n",
    "\n",
    "我们既可以像上一课那样将得到的线性系统实现为矩阵方程，也可以简单地使用一个 `SymPy` 函数，它可以立即给出有限差分运算符。"
   ]
  },
  {
   "cell_type": "code",
   "execution_count": 1,
   "metadata": {},
   "outputs": [],
   "source": [
    "# import SymPy libraries\n",
    "from sympy import symbols, differentiate_finite, Function"
   ]
  },
  {
   "cell_type": "code",
   "execution_count": 2,
   "metadata": {},
   "outputs": [
    {
     "name": "stdout",
     "output_type": "stream",
     "text": [
      "1st order forward operator 1st derivative:\n",
      "(-f(x) + f(h + x))/h\n",
      " \n",
      "1st order backward operator 1st derivative:\n",
      "(f(x) - f(-h + x))/h\n",
      " \n",
      "2nd order center operator 1st derivative:\n",
      "(-f(-h + x) + f(h + x))/(2*h)\n",
      " \n",
      "2nd order center operator 2nd derivative:\n",
      "(-2*f(x) + f(-h + x) + f(h + x))/h**2\n",
      " \n",
      "4th order center operator 2nd derivative:\n",
      "(-30*f(x) - f(-2*h + x) + 16*f(-h + x) + 16*f(h + x) - f(2*h + x))/(12*h**2)\n",
      " \n"
     ]
    }
   ],
   "source": [
    "# Define symbols\n",
    "x, h = symbols('x h')\n",
    "f = Function('f')\n",
    "\n",
    "# 1st order forward operator for 1st derivative\n",
    "forward_1st_fx = differentiate_finite(f(x), x, points=[x+h, x]).simplify()\n",
    "print(\"1st order forward operator 1st derivative:\")\n",
    "print(forward_1st_fx)\n",
    "print(\" \")\n",
    "\n",
    "# 1st order backward operator for 1st derivative\n",
    "backward_1st_fx = differentiate_finite(f(x), x, points=[x, x-h]).simplify()\n",
    "print(\"1st order backward operator 1st derivative:\")\n",
    "print(backward_1st_fx)\n",
    "print(\" \")\n",
    "\n",
    "# 2nd order centered operator for 1st derivative\n",
    "center_1st_fx = differentiate_finite(f(x), x, points=[x+h, x-h]).simplify()\n",
    "print(\"2nd order center operator 1st derivative:\")\n",
    "print(center_1st_fx)\n",
    "print(\" \")\n",
    "\n",
    "# 2nd order FD operator for 2nd derivative\n",
    "center_2nd_fxx = differentiate_finite(f(x), x, 2, points=[x+h, x, x-h]).simplify()\n",
    "print(\"2nd order center operator 2nd derivative:\")\n",
    "print(center_2nd_fxx)\n",
    "print(\" \")\n",
    "\n",
    "# 4th order FD operator for 2nd derivative\n",
    "center_4th_fxx = differentiate_finite(f(x), x, 2, points=[x+2*h, x+h, x, x-h, x-2*h]).simplify()\n",
    "print(\"4th order center operator 2nd derivative:\")\n",
    "print(center_4th_fxx)\n",
    "print(\" \")\n"
   ]
  },
  {
   "cell_type": "markdown",
   "metadata": {},
   "source": [
    "实际上，底层算法也支持可变网格间距，因为它不是基于泰勒级数展开，而是基于拉格朗日多项式。 关于更多的细节，我参考了这篇论文 [\"Calculation of weights in finite difference formulas\" by Bengt Fornberg](https://amath.colorado.edu/faculty/fornberg/Docs/sirev_cl.pdf)\n",
    "\n",
    "替代使用 `SymPy` 用于计算有限差分算子权值是 **DEVITO** 软件包:\n",
    "\n",
    "[\"https://www.devitoproject.org/\"](https://www.devitoproject.org/)\n",
    "\n",
    "它不仅计算有限差分模板，而且自动优化给定硬件的性能。"
   ]
  },
  {
   "cell_type": "markdown",
   "metadata": {},
   "source": [
    "## 我们学习到:\n",
    "\n",
    "* 如何计算任意导数和误差阶的有限差分算子\n",
    "* 有限差分运算符的符号计算通过 `SymPy`"
   ]
  }
 ],
 "metadata": {
  "anaconda-cloud": {},
  "kernelspec": {
   "display_name": "Python 3 (ipykernel)",
   "language": "python",
   "name": "python3"
  },
  "language_info": {
   "codemirror_mode": {
    "name": "ipython",
    "version": 3
   },
   "file_extension": ".py",
   "mimetype": "text/x-python",
   "name": "python",
   "nbconvert_exporter": "python",
   "pygments_lexer": "ipython3",
   "version": "3.10.4"
  }
 },
 "nbformat": 4,
 "nbformat_minor": 1
}
